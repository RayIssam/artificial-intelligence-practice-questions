{
  "nbformat": 4,
  "nbformat_minor": 0,
  "metadata": {
    "colab": {
      "provenance": []
    },
    "kernelspec": {
      "name": "python3",
      "display_name": "Python 3"
    },
    "language_info": {
      "name": "python"
    }
  },
  "cells": [
    {
      "cell_type": "code",
      "execution_count": 5,
      "metadata": {
        "colab": {
          "base_uri": "https://localhost:8080/"
        },
        "id": "06c9VTK9UQ8v",
        "outputId": "ec51778c-937d-45b9-8d8b-851962c83d20"
      },
      "outputs": [
        {
          "output_type": "stream",
          "name": "stdout",
          "text": [
            "Best parameters for the model: {'linearregression__fit_intercept': False, 'linearregression__n_jobs': None, 'linearregression__positive': False, 'polynomialfeatures__degree': 4}\n"
          ]
        }
      ],
      "source": [
        "import numpy as np\n",
        "from sklearn.model_selection import GridSearchCV\n",
        "from sklearn.preprocessing import PolynomialFeatures\n",
        "from sklearn.linear_model import LinearRegression\n",
        "from sklearn.pipeline import make_pipeline\n",
        "\n",
        "# Function to create a polynomial regression pipeline\n",
        "def PolynomialRegression(degree=2, **kwargs):\n",
        "    # The pipeline includes polynomial features and linear regression\n",
        "    return make_pipeline(PolynomialFeatures(degree), LinearRegression(**kwargs))\n",
        "\n",
        "# Function to generate some synthetic data for training\n",
        "def make_data(N, err=1.0, rseed=1):\n",
        "    rng = np.random.RandomState(rseed)\n",
        "    X = rng.rand(N, 1) ** 2\n",
        "    y = 10 - 1. / (X.ravel() + 0.1)\n",
        "    if err > 0:\n",
        "        y += err * rng.randn(N)\n",
        "    return X, y\n",
        "\n",
        "# Generate data with 80 points\n",
        "X, y = make_data(80)\n",
        "\n",
        "# Define the grid of parameters to search over\n",
        "param_grid = {\n",
        "    'polynomialfeatures__degree': np.arange(21),  # Test polynomial degrees from 0 to 20\n",
        "    'linearregression__fit_intercept': [True, False],  # Test with and without intercept\n",
        "    'linearregression__positive': [True, False],  # Test with and without positive constraint\n",
        "    'linearregression__n_jobs': [None, 1, -1]  # Use different CPU core settings\n",
        "}\n",
        "\n",
        "# Set up GridSearchCV with 7-fold cross-validation\n",
        "grid = GridSearchCV(PolynomialRegression(), param_grid, cv=7)\n",
        "\n",
        "# Fit the model on the data\n",
        "grid.fit(X, y)\n",
        "\n",
        "# Output the best parameters found by GridSearchCV\n",
        "print(\"Best parameters for the model:\", grid.best_params_)\n"
      ]
    }
  ]
}